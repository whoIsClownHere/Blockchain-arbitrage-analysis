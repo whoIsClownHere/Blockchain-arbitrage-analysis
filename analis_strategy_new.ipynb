{
 "cells": [
  {
   "cell_type": "markdown",
   "id": "6b918492",
   "metadata": {},
   "source": [
    "# Аналитика новой стратегии"
   ]
  },
  {
   "cell_type": "markdown",
   "id": "9dc972c1",
   "metadata": {},
   "source": [
    "## Импорт библиотек"
   ]
  },
  {
   "cell_type": "code",
   "execution_count": 1,
   "id": "c625dda2",
   "metadata": {},
   "outputs": [],
   "source": [
    "import pandas as pd\n",
    "import seaborn as sns\n",
    "import matplotlib.pyplot as plt\n",
    "from datetime import datetime\n",
    "import numpy as np\n",
    "\n",
    "sns.set_style(\"darkgrid\")"
   ]
  },
  {
   "cell_type": "code",
   "execution_count": 2,
   "id": "91251edc",
   "metadata": {},
   "outputs": [
    {
     "data": {
      "text/html": [
       "<div>\n",
       "<style scoped>\n",
       "    .dataframe tbody tr th:only-of-type {\n",
       "        vertical-align: middle;\n",
       "    }\n",
       "\n",
       "    .dataframe tbody tr th {\n",
       "        vertical-align: top;\n",
       "    }\n",
       "\n",
       "    .dataframe thead th {\n",
       "        text-align: right;\n",
       "    }\n",
       "</style>\n",
       "<table border=\"1\" class=\"dataframe\">\n",
       "  <thead>\n",
       "    <tr style=\"text-align: right;\">\n",
       "      <th></th>\n",
       "      <th>spread</th>\n",
       "      <th>start_buy_price</th>\n",
       "      <th>start_sell_price</th>\n",
       "      <th>end_buy_price</th>\n",
       "      <th>end_sell_price</th>\n",
       "      <th>start_time</th>\n",
       "      <th>end_time</th>\n",
       "      <th>ticker</th>\n",
       "      <th>buy_exchange</th>\n",
       "      <th>sell_exchange</th>\n",
       "      <th>total_time</th>\n",
       "      <th>buy_price_differnce</th>\n",
       "      <th>sell_price_differnce</th>\n",
       "    </tr>\n",
       "  </thead>\n",
       "  <tbody>\n",
       "    <tr>\n",
       "      <th>0</th>\n",
       "      <td>42.334</td>\n",
       "      <td>0.02975</td>\n",
       "      <td>0.05100</td>\n",
       "      <td>0.02268</td>\n",
       "      <td>0.02276</td>\n",
       "      <td>2022-11-01 00:00:00</td>\n",
       "      <td>2022-11-23 04:01:00</td>\n",
       "      <td>MDT/USDT</td>\n",
       "      <td>binance</td>\n",
       "      <td>mexc</td>\n",
       "      <td>1915260.0</td>\n",
       "      <td>-0.00707</td>\n",
       "      <td>0.02824</td>\n",
       "    </tr>\n",
       "    <tr>\n",
       "      <th>1</th>\n",
       "      <td>1.500</td>\n",
       "      <td>0.02266</td>\n",
       "      <td>0.02300</td>\n",
       "      <td>0.02262</td>\n",
       "      <td>0.02275</td>\n",
       "      <td>2022-11-23 04:07:00</td>\n",
       "      <td>2022-11-23 04:07:00</td>\n",
       "      <td>MDT/USDT</td>\n",
       "      <td>binance</td>\n",
       "      <td>mexc</td>\n",
       "      <td>0.0</td>\n",
       "      <td>-0.00004</td>\n",
       "      <td>0.00025</td>\n",
       "    </tr>\n",
       "    <tr>\n",
       "      <th>2</th>\n",
       "      <td>2.080</td>\n",
       "      <td>0.02263</td>\n",
       "      <td>0.02310</td>\n",
       "      <td>0.02263</td>\n",
       "      <td>0.02270</td>\n",
       "      <td>2022-11-23 04:13:00</td>\n",
       "      <td>2022-11-23 04:13:00</td>\n",
       "      <td>MDT/USDT</td>\n",
       "      <td>binance</td>\n",
       "      <td>mexc</td>\n",
       "      <td>0.0</td>\n",
       "      <td>0.00000</td>\n",
       "      <td>0.00040</td>\n",
       "    </tr>\n",
       "    <tr>\n",
       "      <th>3</th>\n",
       "      <td>1.190</td>\n",
       "      <td>0.02263</td>\n",
       "      <td>0.02290</td>\n",
       "      <td>0.02263</td>\n",
       "      <td>0.02280</td>\n",
       "      <td>2022-11-23 04:16:00</td>\n",
       "      <td>2022-11-23 04:16:00</td>\n",
       "      <td>MDT/USDT</td>\n",
       "      <td>binance</td>\n",
       "      <td>mexc</td>\n",
       "      <td>0.0</td>\n",
       "      <td>0.00000</td>\n",
       "      <td>0.00010</td>\n",
       "    </tr>\n",
       "    <tr>\n",
       "      <th>4</th>\n",
       "      <td>1.433</td>\n",
       "      <td>0.02281</td>\n",
       "      <td>0.02309</td>\n",
       "      <td>0.02294</td>\n",
       "      <td>0.02309</td>\n",
       "      <td>2022-11-23 07:04:00</td>\n",
       "      <td>2022-11-23 07:11:00</td>\n",
       "      <td>MDT/USDT</td>\n",
       "      <td>binance</td>\n",
       "      <td>mexc</td>\n",
       "      <td>420.0</td>\n",
       "      <td>0.00013</td>\n",
       "      <td>0.00000</td>\n",
       "    </tr>\n",
       "  </tbody>\n",
       "</table>\n",
       "</div>"
      ],
      "text/plain": [
       "   spread  start_buy_price  start_sell_price  end_buy_price  end_sell_price  \\\n",
       "0  42.334          0.02975           0.05100        0.02268         0.02276   \n",
       "1   1.500          0.02266           0.02300        0.02262         0.02275   \n",
       "2   2.080          0.02263           0.02310        0.02263         0.02270   \n",
       "3   1.190          0.02263           0.02290        0.02263         0.02280   \n",
       "4   1.433          0.02281           0.02309        0.02294         0.02309   \n",
       "\n",
       "           start_time            end_time    ticker buy_exchange  \\\n",
       "0 2022-11-01 00:00:00 2022-11-23 04:01:00  MDT/USDT      binance   \n",
       "1 2022-11-23 04:07:00 2022-11-23 04:07:00  MDT/USDT      binance   \n",
       "2 2022-11-23 04:13:00 2022-11-23 04:13:00  MDT/USDT      binance   \n",
       "3 2022-11-23 04:16:00 2022-11-23 04:16:00  MDT/USDT      binance   \n",
       "4 2022-11-23 07:04:00 2022-11-23 07:11:00  MDT/USDT      binance   \n",
       "\n",
       "  sell_exchange  total_time  buy_price_differnce  sell_price_differnce  \n",
       "0          mexc   1915260.0             -0.00707               0.02824  \n",
       "1          mexc         0.0             -0.00004               0.00025  \n",
       "2          mexc         0.0              0.00000               0.00040  \n",
       "3          mexc         0.0              0.00000               0.00010  \n",
       "4          mexc       420.0              0.00013               0.00000  "
      ]
     },
     "execution_count": 2,
     "metadata": {},
     "output_type": "execute_result"
    }
   ],
   "source": [
    "names = ['spread', 'start_buy_price', 'start_sell_price', 'end_buy_price', 'end_sell_price', 'start_time', 'end_time', 'ticker', 'buy_exchange', 'sell_exchange']\n",
    "data = pd.read_csv('arbitrage_data.tsv', names=names)\n",
    "\n",
    "data['start_time'] = data['start_time'].apply(lambda x: datetime.fromtimestamp(x))\n",
    "data['end_time'] = data['end_time'].apply(lambda x: datetime.fromtimestamp(x))\n",
    "data['total_time'] = data['end_time'] - data['start_time']\n",
    "data['total_time'] = data['total_time'].apply(lambda x: x.total_seconds())\n",
    "\n",
    "data['buy_price_differnce'] = data['end_buy_price'] - data['start_buy_price']\n",
    "data['sell_price_differnce'] = data['start_sell_price'] - data['end_sell_price']\n",
    "data.head()"
   ]
  },
  {
   "cell_type": "code",
   "execution_count": 3,
   "id": "98e9296b",
   "metadata": {},
   "outputs": [],
   "source": [
    "data['bad_for_new_strategy_buy'] = data['buy_price_differnce'].apply(lambda x: x < 0)\n",
    "data['bad_for_new_strategy_sell'] = data['sell_price_differnce'].apply(lambda x: x < 0)"
   ]
  },
  {
   "cell_type": "code",
   "execution_count": 4,
   "id": "3ab53e8c",
   "metadata": {},
   "outputs": [],
   "source": [
    "data['bad_color_new_strategy_but'] = data.apply(lambda x: 'red' if x['bad_for_new_strategy_buy'] == True else \\\n",
    "                               'blue', axis=1)\n",
    "\n",
    "data['bad_color_new_strategy_sell'] = data.apply(lambda x: 'red' if x['bad_for_new_strategy_sell'] == True else \\\n",
    "                               'blue', axis=1)"
   ]
  },
  {
   "cell_type": "code",
   "execution_count": null,
   "id": "1c8f3eaf",
   "metadata": {},
   "outputs": [
    {
     "data": {
      "text/plain": [
       "<matplotlib.legend.Legend at 0x1f2d0e62850>"
      ]
     },
     "execution_count": 5,
     "metadata": {},
     "output_type": "execute_result"
    }
   ],
   "source": [
    "plt.figure(figsize=(20, 10))\n",
    "plt.scatter(data[\"start_time\"], data['buy_price_differnce'], color=data['bad_color_new_strategy_but'])\n",
    "plt.legend(['Невыгодные для стратегии сделки'])"
   ]
  },
  {
   "cell_type": "code",
   "execution_count": null,
   "id": "dfc91586",
   "metadata": {},
   "outputs": [],
   "source": [
    "plt.figure(figsize=(20, 10))\n",
    "plt.scatter(data[\"start_time\"], data['sell_price_differnce'], color=data['bad_color_new_strategy_sell'])\n",
    "plt.legend(['Выгодные для стратегии сделки'])"
   ]
  },
  {
   "cell_type": "code",
   "execution_count": null,
   "id": "9d9d2683",
   "metadata": {},
   "outputs": [],
   "source": [
    "data.loc[data['bad_for_new_strategy_buy'] == False]['spread'].count() / data['spread'].count() * 100"
   ]
  },
  {
   "cell_type": "code",
   "execution_count": null,
   "id": "d42539b0",
   "metadata": {
    "scrolled": true
   },
   "outputs": [],
   "source": [
    "data.loc[data['bad_for_new_strategy_sell'] == False]['spread'].count() / data['spread'].count() * 100"
   ]
  },
  {
   "cell_type": "code",
   "execution_count": null,
   "id": "c7432da3",
   "metadata": {},
   "outputs": [],
   "source": [
    "data['traded_for'] = data['ticker'].apply(lambda x: x.split('/')[1] == 'USDT')"
   ]
  },
  {
   "cell_type": "code",
   "execution_count": null,
   "id": "76775271",
   "metadata": {},
   "outputs": [],
   "source": [
    "new_data = data.loc[(data['traded_for'] == True) & (data['total_time'] > 180) & (data['spread'] <= 50)]"
   ]
  },
  {
   "cell_type": "code",
   "execution_count": null,
   "id": "69324419",
   "metadata": {},
   "outputs": [],
   "source": [
    "def long_and_short_token(x):\n",
    "    long_sell = 0\n",
    "    short_sell = 0\n",
    "    if x['start_buy_price'] != 0:\n",
    "        long_buy = 100 / x['start_buy_price']\n",
    "        long_sell = long_buy * x['end_buy_price'] - 100\n",
    "        \n",
    "    if x['end_sell_price'] != 0:\n",
    "        short_buy = 100 / x['end_sell_price']\n",
    "        short_sell = long_buy * x['start_sell_price'] - 100\n",
    "    \n",
    "    return long_sell + short_sell"
   ]
  },
  {
   "cell_type": "code",
   "execution_count": null,
   "id": "cbb55dad",
   "metadata": {},
   "outputs": [],
   "source": [
    "facts = []\n",
    "for _ in range(1000):\n",
    "    index = np.random.choice(new_data.index, size=1000, replace=False)\n",
    "    s = new_data.loc[index].apply(lambda x: long_and_short_token(x), axis=1).sum()\n",
    "    facts.append(s)\n",
    "facts.sort()\n",
    "print(f'from {int(facts[24])} to {int(facts[-25])}')"
   ]
  }
 ],
 "metadata": {
  "kernelspec": {
   "display_name": "Python 3 (ipykernel)",
   "language": "python",
   "name": "python3"
  },
  "language_info": {
   "codemirror_mode": {
    "name": "ipython",
    "version": 3
   },
   "file_extension": ".py",
   "mimetype": "text/x-python",
   "name": "python",
   "nbconvert_exporter": "python",
   "pygments_lexer": "ipython3",
   "version": "3.8.10"
  }
 },
 "nbformat": 4,
 "nbformat_minor": 5
}
